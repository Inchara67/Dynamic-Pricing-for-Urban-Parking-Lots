{
  "nbformat": 4,
  "nbformat_minor": 0,
  "metadata": {
    "colab": {
      "provenance": [],
      "authorship_tag": "ABX9TyOjVwuhbabqf33FFKt8SP42",
      "include_colab_link": true
    },
    "kernelspec": {
      "name": "python3",
      "display_name": "Python 3"
    },
    "language_info": {
      "name": "python"
    }
  },
  "cells": [
    {
      "cell_type": "markdown",
      "metadata": {
        "id": "view-in-github",
        "colab_type": "text"
      },
      "source": [
        "<a href=\"https://colab.research.google.com/github/Inchara67/Dynamic-Pricing-for-Urban-Parking-Lots/blob/main/Final_Notebook.ipynb\" target=\"_parent\"><img src=\"https://colab.research.google.com/assets/colab-badge.svg\" alt=\"Open In Colab\"/></a>"
      ]
    },
    {
      "cell_type": "markdown",
      "source": [
        "# 🚗 Dynamic Pricing for Parking Lots\n",
        "This notebook implements a dynamic pricing model based on parking lot occupancy and time. It includes:\n",
        "- Loading and processing data\n",
        "- Applying a linear pricing model\n",
        "- Visualizing pricing behavior\n",
        "\n",
        "**Problem Statement Summary:**\n",
        "Given raw parking lot data with timestamped occupancy and capacity values, implement a pricing model that dynamically adjusts based on current conditions.\n"
      ],
      "metadata": {
        "id": "fuigyvRxR4Dm"
      }
    },
    {
      "cell_type": "markdown",
      "source": [
        "## 📦 Install Required Libraries\n",
        "\n",
        "We begin by installing the required Python packages for this notebook:\n",
        "- `pathway`: for real-time stream processing\n",
        "- `bokeh`: for interactive visualizations (used internally or optionally)\n"
      ],
      "metadata": {
        "id": "i5vOSdE7SK_L"
      }
    },
    {
      "cell_type": "code",
      "execution_count": null,
      "metadata": {
        "id": "eAz_8D10W7o-"
      },
      "outputs": [],
      "source": [
        "# Install Pathway for data streaming and Bokeh for visualization support\n",
        "!pip install pathway bokeh --quiet"
      ]
    },
    {
      "cell_type": "markdown",
      "source": [
        "## 📚 Import Libraries\n",
        "\n",
        "We import the necessary libraries for:\n",
        "- Data manipulation and time handling (`pandas`, `numpy`, `datetime`)\n",
        "- Stream processing (`pathway`)\n",
        "- Visualization support (`matplotlib`, `bokeh`, `panel`)\n"
      ],
      "metadata": {
        "id": "_q6DAL8iSjzb"
      }
    },
    {
      "cell_type": "code",
      "source": [
        "# Core libraries for data handling and time processing\n",
        "import numpy as np\n",
        "import pandas as pd\n",
        "import datetime\n",
        "from datetime import datetime\n",
        "\n",
        "# Stream processing framework\n",
        "import pathway as pw\n",
        "\n",
        "# Visualization libraries\n",
        "import matplotlib as plt\n",
        "import bokeh.plotting\n",
        "import panel as pn\n"
      ],
      "metadata": {
        "id": "bBgAIIjuYbjJ"
      },
      "execution_count": null,
      "outputs": []
    },
    {
      "cell_type": "markdown",
      "source": [
        "## 📥 Load Dataset from GitHub\n",
        "\n",
        "We load the input dataset directly from the GitHub repository using its raw CSV URL.  \n",
        "This dataset contains raw parking data, including timestamps, occupancy, and capacity values for different parking lots.\n"
      ],
      "metadata": {
        "id": "InrvZumaSu9U"
      }
    },
    {
      "cell_type": "code",
      "source": [
        "# Load the dataset from GitHub (raw URL)\n",
        "url = 'https://raw.githubusercontent.com/Inchara67/Dynamic-Pricing-for-Urban-Parking-Lots/refs/heads/main/dataset.csv'\n",
        "df = pd.read_csv(url)\n",
        "\n",
        "# Display the full dataframe\n",
        "df\n"
      ],
      "metadata": {
        "id": "gFVwxBzMYYEL"
      },
      "execution_count": null,
      "outputs": []
    },
    {
      "cell_type": "markdown",
      "source": [
        "## 🧹 Data Preprocessing: Timestamp Creation\n",
        "\n",
        "We combine the `LastUpdatedDate` and `LastUpdatedTime` columns into a single `Timestamp` column for time-based analysis.  \n",
        "Invalid timestamps are handled using `errors='coerce'` and removed to ensure clean, chronological data.\n"
      ],
      "metadata": {
        "id": "mUPwIhNdSz1w"
      }
    },
    {
      "cell_type": "code",
      "source": [
        "# Safely combine 'LastUpdatedDate' and 'LastUpdatedTime' into a single datetime column\n",
        "df['Timestamp'] = pd.to_datetime(\n",
        "    df['LastUpdatedDate'].astype(str) + ' ' + df['LastUpdatedTime'].astype(str),\n",
        "    format='%d-%m-%Y %H:%M:%S',\n",
        "    errors='coerce'  # Invalid formats become NaT\n",
        ")\n",
        "\n",
        "# Drop rows with invalid/missing timestamps\n",
        "df = df.dropna(subset=['Timestamp'])\n",
        "\n",
        "# Sort data chronologically and reset the index\n",
        "df = df.sort_values('Timestamp').reset_index(drop=True)\n"
      ],
      "metadata": {
        "id": "Owpul0PvYaIR"
      },
      "execution_count": null,
      "outputs": []
    },
    {
      "cell_type": "code",
      "source": [
        "# Save the selected columns to a CSV file for streaming or downstream processing\n",
        "df[[\"Timestamp\", \"Occupancy\", \"Capacity\", \"TrafficConditionNearby\", \"QueueLength\", \"IsSpecialDay\", \"VehicleType\"]].to_csv(\"parking_stream.csv\", index=False)"
      ],
      "metadata": {
        "id": "RF6MYORnZO3x"
      },
      "execution_count": null,
      "outputs": []
    },
    {
      "cell_type": "code",
      "source": [
        "# Define the schema for the streaming data using Pathway\n",
        "# This schema specifies the structure and types of incoming data fields\n",
        "\n",
        "class ParkingSchema(pw.Schema):\n",
        "    Timestamp: str                    # Timestamp of the observation (preferably ISO format)\n",
        "    Occupancy: int                    # Number of occupied spots\n",
        "    Capacity: int                     # Total parking capacity\n",
        "    TrafficConditionNearby: str       # Qualitative traffic condition (e.g., 'Heavy', 'Moderate')\n",
        "    QueueLength: int                  # Number of cars in queue\n",
        "    IsSpecialDay: bool                # True if the day is a holiday or special event\n",
        "    VehicleType: str                  # Type of vehicle (e.g., 'Car', 'Bike', etc.)"
      ],
      "metadata": {
        "id": "zd5xVapXZgcj"
      },
      "execution_count": null,
      "outputs": []
    },
    {
      "cell_type": "code",
      "source": [
        "# Load the data as a simulated stream using Pathway's replay_csv function\n",
        "# This replays the CSV data at a controlled input rate to mimic real-time streaming\n",
        "# input_rate=1000 means approximately 1000 rows per second will be ingested into the stream.\n",
        "\n",
        "data = pw.demo.replay_csv(\"parking_stream.csv\", schema=ParkingSchema, input_rate=1000)"
      ],
      "metadata": {
        "id": "CAWFKiSXZlVt"
      },
      "execution_count": null,
      "outputs": []
    },
    {
      "cell_type": "code",
      "source": [
        "# Define the datetime format for parsing\n",
        "fmt = \"%Y-%m-%d %H:%M:%S\"\n",
        "\n",
        "# Add new time-related columns to the data stream:\n",
        "# 't' – parsed datetime\n",
        "# 'day' – day part only, with time set to 00:00:00 (useful for grouping)\n",
        "data_with_time = data.with_columns(\n",
        "    t = data.Timestamp.dt.strptime(fmt),\n",
        "    day = data.Timestamp.dt.strptime(fmt).dt.strftime(\"%Y-%m-%dT00:00:00\")\n",
        ")"
      ],
      "metadata": {
        "id": "G3XWsOg1Zosh"
      },
      "execution_count": null,
      "outputs": []
    },
    {
      "cell_type": "markdown",
      "source": [
        "Model 1: Linear Price Model"
      ],
      "metadata": {
        "id": "UBAYuQfbZ37e"
      }
    },
    {
      "cell_type": "markdown",
      "source": [
        "## 💰 Model 1: Linear Pricing Based on Occupancy Ratio\n",
        "\n",
        "This model calculates the dynamic parking price using a simple linear formula:\n",
        "- **Base price:** \\$10\n",
        "- The price increases linearly based on the **occupancy-to-capacity ratio**\n",
        "- **Maximum price reaches \\$20** when the parking lot is fully occupied\n",
        "\n",
        "A custom function is used to apply this logic row-by-row, while handling edge cases like zero capacity.\n"
      ],
      "metadata": {
        "id": "srIktt-VRJDn"
      }
    },
    {
      "cell_type": "code",
      "source": [
        "# Define the pricing model function\n",
        "# If capacity is zero, retain the previous price to avoid division error\n",
        "def model1_linear_price(prev_price, occupancy, capacity):\n",
        "    if capacity == 0:\n",
        "        return prev_price\n",
        "    new_price = 10 + 10 * (occupancy / capacity)\n",
        "    return new_price\n",
        "\n",
        "# Initialize price column with a base price\n",
        "base_price = 10\n",
        "df['price_model1'] = base_price\n",
        "\n",
        "# Apply the pricing model row-by-row using previous price and current occupancy/capacity\n",
        "for i in range(1, len(df)):\n",
        "    prev_price = df.loc[i - 1, 'price_model1']\n",
        "    occ = df.loc[i, 'Occupancy']\n",
        "    cap = df.loc[i, 'Capacity']\n",
        "    df.loc[i, 'price_model1'] = model1_linear_price(prev_price, occ, cap)\n",
        "\n",
        "# Display a sample of the computed prices\n",
        "df[['Timestamp', 'Occupancy', 'Capacity', 'price_model1']].head()\n"
      ],
      "metadata": {
        "id": "-cJo0lMHZvkW"
      },
      "execution_count": null,
      "outputs": []
    },
    {
      "cell_type": "markdown",
      "source": [
        "Model 2: Demand-Based Price Function"
      ],
      "metadata": {
        "id": "W5FkQlMla2J5"
      }
    },
    {
      "cell_type": "markdown",
      "source": [
        "## 📈 Model 2: Demand-Based Pricing Using Multiple Factors\n",
        "\n",
        "This model adjusts pricing dynamically based on a calculated \"demand score,\" considering:\n",
        "- **Occupancy and capacity**\n",
        "- **Queue length**\n",
        "- **Nearby traffic conditions**\n",
        "- **Whether it's a special day**\n",
        "- **Vehicle type**\n",
        "\n",
        "Each factor is weighted using predefined coefficients (`alpha`, `beta`, etc.).  \n",
        "The final price is scaled using a sensitivity factor `λ` (lambda), and capped between 50% and 200% of the base price.\n"
      ],
      "metadata": {
        "id": "YdvQ_NznUHYu"
      }
    },
    {
      "cell_type": "code",
      "source": [
        "# Function to compute demand score based on various input features\n",
        "def compute_demand(Occupancy, Capacity, QueueLength, TrafficConditionNearby, IsSpecialDay, VehicleType,\n",
        "                   alpha=0.6, beta=0.2, gamma=0.2, delta=0.1, epsilon=0.1):\n",
        "    # Encode categorical inputs\n",
        "    VehicleType = {'car': 1, 'bike': 0.5, 'truck': 1.5}.get(VehicleType.lower(), 1)\n",
        "    TrafficConditionNearby = {'low': 1, 'medium': 2, 'high': 3}.get(str(TrafficConditionNearby).lower(), 2)\n",
        "\n",
        "    # Calculate weighted demand score\n",
        "    demand = (alpha * (Occupancy / Capacity) +\n",
        "              beta * QueueLength -\n",
        "              gamma * TrafficConditionNearby +\n",
        "              delta * IsSpecialDay +\n",
        "              epsilon * VehicleType)\n",
        "    return demand\n",
        "\n",
        "# Function to convert demand score into a dynamic price\n",
        "def model2_demand_price(base_price, demand, lambda_=0.5):\n",
        "    norm_demand = min(max(demand, -1), 1)  # Clamp demand to [-1, 1]\n",
        "    price = base_price * (1 + lambda_ * norm_demand)\n",
        "    return max(min(price, base_price * 2), base_price * 0.5)  # Price is clamped between 50% and 200%\n",
        "\n",
        "# Apply the demand-based pricing model across all rows\n",
        "df['price_model2'] = base_price\n",
        "for i in range(len(df)):\n",
        "    row = df.loc[i]\n",
        "    demand = compute_demand(\n",
        "        row['Occupancy'], row['Capacity'], row['QueueLength'], row['TrafficConditionNearby'],\n",
        "        row['IsSpecialDay'], row['VehicleType']\n",
        "    )\n",
        "    df.loc[i, 'price_model2'] = model2_demand_price(base_price, demand)\n",
        "\n",
        "# Display the computed prices with timestamps\n",
        "df[['Timestamp', 'price_model2']].head()"
      ],
      "metadata": {
        "id": "UTeQraB_azrT"
      },
      "execution_count": null,
      "outputs": []
    },
    {
      "cell_type": "markdown",
      "source": [
        "## 🔍 Sample Output: Comparison of Model 1 and Model 2 Prices"
      ],
      "metadata": {
        "id": "MfI_8WuVUhXH"
      }
    },
    {
      "cell_type": "code",
      "source": [
        "# Display first 10 rows of core data and pricing outputs\n",
        "df[['Timestamp', 'SystemCodeNumber', 'Occupancy', 'Capacity', 'price_model1', 'price_model2']].head(10)"
      ],
      "metadata": {
        "id": "UHvcryccFim5"
      },
      "execution_count": null,
      "outputs": []
    },
    {
      "cell_type": "markdown",
      "source": [
        "## 📊 Daily Aggregation Using Tumbling Window (Pathway)\n",
        "\n",
        "This block performs a **daily aggregation** of streaming data using Pathway's **tumbling window** function.  \n",
        "It helps summarize key metrics like:\n",
        "- **Maximum and minimum occupancy**\n",
        "- **Capacity**\n",
        "- And computes sample price metrics (e.g., max-occupancy-based and fluctuation-based)\n",
        "\n",
        "These calculations **do not represent a separate pricing model**, but support **temporal analysis and pricing trend visualization** over each day.\n"
      ],
      "metadata": {
        "id": "fdz4gQr6VWB8"
      }
    },
    {
      "cell_type": "code",
      "source": [
        "import datetime\n",
        "\n",
        "# Apply a 1-day tumbling window to aggregate parking data by day using Pathway\n",
        "delta_window = (\n",
        "    data_with_time.windowby(\n",
        "        pw.this.t,                                                # Timestamp column for event-time alignment\n",
        "        instance=pw.this.day,                                     # One window per calendar day\n",
        "        window=pw.temporal.tumbling(datetime.timedelta(days=1)),  # Fixed daily window\n",
        "        behavior=pw.temporal.exactly_once_behavior()              # Ensure no duplication in processing\n",
        "    )\n",
        "    .reduce(\n",
        "        t=pw.this._pw_window_end,                                 # Timestamp marking the end of the window\n",
        "        occ_max=pw.reducers.max(pw.this.Occupancy),               # Peak occupancy of the day\n",
        "        occ_min=pw.reducers.min(pw.this.Occupancy),               # Lowest occupancy of the day\n",
        "        cap=pw.reducers.max(pw.this.Capacity),                    # Capacity (assumed stable over a day)\n",
        "    )\n",
        "    .with_columns(\n",
        "        # Linear price example: scaled with max occupancy (for analysis, not a separate model)\n",
        "        price_model1 = 10 + 0.5 * (pw.this.occ_max / pw.this.cap),\n",
        "\n",
        "        # Fluctuation-based pricing (for visualization purposes)\n",
        "        price_fluctuation_model = 10 + (pw.this.occ_max - pw.this.occ_min) / pw.this.cap\n",
        "    )\n",
        ")"
      ],
      "metadata": {
        "id": "0xLjLAmJgrMc"
      },
      "execution_count": null,
      "outputs": []
    },
    {
      "cell_type": "markdown",
      "source": [
        "## 📉 Interactive Visualization of Pricing Models by Lot\n",
        "\n",
        "We create an interactive dropdown widget to select a **parking lot**, and display a time-series plot comparing:\n",
        "- **Model 1 (Linear)** pricing\n",
        "- **Model 2 (Demand-Based)** pricing\n",
        "\n",
        "This helps visualize how pricing behavior changes across time for different lots.\n"
      ],
      "metadata": {
        "id": "nJ0Y3nmHVyAi"
      }
    },
    {
      "cell_type": "code",
      "source": [
        "import matplotlib.pyplot as plt                 # For plotting the price trends\n",
        "import ipywidgets as widgets                   # For creating interactive dropdown UI\n",
        "from IPython.display import display, clear_output  # For updating output dynamically in notebook\n",
        "\n",
        "# Convert 'SystemCodeNumber' to string to ensure consistency during filtering\n",
        "df['SystemCodeNumber'] = df['SystemCodeNumber'].astype(str)\n",
        "\n",
        "# Get sorted list of unique parking lot IDs for dropdown options\n",
        "lot_options = sorted(df['SystemCodeNumber'].unique())\n",
        "\n",
        "# Create a dropdown widget for selecting a parking lot\n",
        "dropdown = widgets.Dropdown(options=lot_options, description='Select Lot:')\n",
        "\n",
        "# Define a function to plot price trends for the selected parking lot\n",
        "def plot_prices(change):\n",
        "    lot_id = change['new']  # Get selected parking lot ID from dropdown\n",
        "\n",
        "    clear_output(wait=True)   # Clear previous plot output\n",
        "    display(dropdown)         # Redisplay the dropdown widget\n",
        "\n",
        "    # Filter the DataFrame for the selected lot and sort by timestamp\n",
        "    filtered = df[df['SystemCodeNumber'] == lot_id].sort_values('Timestamp')\n",
        "\n",
        "    # Initialize the figure\n",
        "    plt.figure(figsize=(12, 5))\n",
        "\n",
        "    # Plot Model 1 (Linear Pricing)\n",
        "    plt.plot(filtered['Timestamp'],\n",
        "             filtered['price_model1'],\n",
        "             label='Model 1: Linear',\n",
        "             color='blue')\n",
        "\n",
        "    # Plot Model 2 (Demand-Based Pricing) with a small visual offset\n",
        "    plt.plot(filtered['Timestamp'],\n",
        "             filtered['price_model2'] - 0.3,  # Offset for better visual separation\n",
        "             label='Model 2: Demand-Based',\n",
        "             color='green')\n",
        "\n",
        "    # Add title, labels, and legend\n",
        "    plt.title(f'Price Trends for Lot {lot_id}')\n",
        "    plt.xlabel('Timestamp')\n",
        "    plt.ylabel('Price (USD)')\n",
        "    plt.legend()\n",
        "    plt.grid(True)\n",
        "    plt.tight_layout()\n",
        "    plt.show()\n",
        "\n",
        "# Bind the dropdown selection to the plotting function\n",
        "dropdown.observe(plot_prices, names='value')\n",
        "\n",
        "# Display the dropdown and show the initial plot for the first parking lot\n",
        "display(dropdown)\n",
        "plot_prices({'new': lot_options[0]})\n"
      ],
      "metadata": {
        "id": "WLcZ-rGn9-G2"
      },
      "execution_count": null,
      "outputs": []
    },
    {
      "cell_type": "code",
      "source": [
        "%%capture --no-display\n",
        "# Run the Pathway data pipeline (suppresses output display)\n",
        "pw.run()"
      ],
      "metadata": {
        "id": "xOQ9KuNI-W-v"
      },
      "execution_count": null,
      "outputs": []
    },
    {
      "cell_type": "markdown",
      "source": [
        "## 🧠 Conclusion\n",
        "\n",
        "In this notebook, we implemented a dynamic pricing system for urban parking lots using both:\n",
        "- **Model 1**: Linear pricing based on occupancy ratio\n",
        "- **Model 2**: Demand-based pricing using queue length, traffic, vehicle type, and special days\n",
        "\n",
        "We also:\n",
        "- Processed streaming data using **Pathway**\n",
        "- Applied a **daily tumbling window** to extract day-wise trends\n",
        "- Built an **interactive visualization** to explore pricing behavior across different parking lots\n",
        "\n",
        "🔍 The visual outputs show how pricing can fluctuate based on real-world factors, and how different models behave under changing conditions.  \n",
        "This framework could be further extended with real-time inputs or predictive modeling for smart city applications."
      ],
      "metadata": {
        "id": "vemFyDhDWv8g"
      }
    }
  ]
}